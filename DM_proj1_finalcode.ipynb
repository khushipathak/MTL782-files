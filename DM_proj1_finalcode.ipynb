{
  "nbformat": 4,
  "nbformat_minor": 0,
  "metadata": {
    "colab": {
      "name": "DM-proj1-finalcode.ipynb",
      "provenance": [],
      "authorship_tag": "ABX9TyMhBdtW3SvuSd0lNjxCq1/V",
      "include_colab_link": true
    },
    "kernelspec": {
      "name": "python3",
      "display_name": "Python 3"
    },
    "language_info": {
      "name": "python"
    }
  },
  "cells": [
    {
      "cell_type": "markdown",
      "metadata": {
        "id": "view-in-github",
        "colab_type": "text"
      },
      "source": [
        "<a href=\"https://colab.research.google.com/github/khushipathak/MTL782-files/blob/main/DM_proj1_finalcode.ipynb\" target=\"_parent\"><img src=\"https://colab.research.google.com/assets/colab-badge.svg\" alt=\"Open In Colab\"/></a>"
      ]
    },
    {
      "cell_type": "markdown",
      "metadata": {
        "id": "JyomIcgF_M-3"
      },
      "source": [
        "# Code for Bank Marketing Classification project\n",
        "Authors: Khushi Kalpesh Pathak [2018MT60783]\n",
        "         Sakshi Manoj Bhandari [2018MT60792]\n",
        "\n",
        "As part of our submission for MTL782 - Data Mining"
      ]
    },
    {
      "cell_type": "code",
      "metadata": {
        "id": "Hp66ULnh_enr"
      },
      "source": [
        ""
      ],
      "execution_count": null,
      "outputs": []
    }
  ]
}